{
 "cells": [
  {
   "cell_type": "markdown",
   "metadata": {},
   "source": [
    "# **Desafio 1: Ordenar Lista de Alunos com Nota em ordem de notas**"
   ]
  },
  {
   "cell_type": "markdown",
   "metadata": {},
   "source": [
    "Afim de buscar compreender melhor as tuplas e sua forma de organizar por list comprehension, o exercício será:\n",
    "- a) Criar um dicionário com os alunos e respectivas notas;\n",
    "- b) Transformá-la em uma lista de tuplas;\n",
    "- c) Utilizando List comprehension, ordenar a lista em ordem notas."
   ]
  },
  {
   "cell_type": "code",
   "execution_count": 2,
   "metadata": {},
   "outputs": [],
   "source": [
    "\"\"\"Criando um dicionário com os alunos e respectivas notas\"\"\"\n",
    "alunos = { \n",
    "    \"Matheus\": 5,\n",
    "    \"Igor\": 6,\n",
    "    \"Antônio\": 2,\n",
    "    \"Adriano\": 8,\n",
    "    \"Maria\": 9,\n",
    "    \"Joana\": 5,\n",
    "    \"Sandro\": 9,\n",
    "    \"Beatriz\": 10,\n",
    "    \"Pedro\": 3,\n",
    "    \"Paula\": 6\n",
    "}\n"
   ]
  },
  {
   "cell_type": "code",
   "execution_count": 3,
   "metadata": {},
   "outputs": [
    {
     "name": "stdout",
     "output_type": "stream",
     "text": [
      "[('Matheus', 5), ('Igor', 6), ('Antônio', 2), ('Adriano', 8), ('Maria', 9), ('Joana', 5), ('Sandro', 9), ('Beatriz', 10), ('Pedro', 3), ('Paula', 6)]\n"
     ]
    }
   ],
   "source": [
    "\"\"\"Transformando em lista de tuplas\"\"\"\n",
    "lista_alunos = [(x, y) for x, y in alunos.items()]\n",
    "print(lista_alunos)"
   ]
  },
  {
   "cell_type": "code",
   "execution_count": 4,
   "metadata": {},
   "outputs": [
    {
     "name": "stdout",
     "output_type": "stream",
     "text": [
      "['Beatriz', 'Maria', 'Sandro', 'Adriano', 'Igor', 'Paula', 'Matheus', 'Joana', 'Pedro', 'Antônio']\n"
     ]
    }
   ],
   "source": [
    "'''Utilizando List comprehensione e ordenar a lista em ordem de notas.'''\n",
    "alunos_ordem = sorted(lista_alunos, key=lambda aluno: aluno[1], reverse=True)\n",
    "nomes_ordem = [aluno[0] for aluno in alunos_ordem]\n",
    "print(nomes_ordem)\n"
   ]
  },
  {
   "cell_type": "markdown",
   "metadata": {},
   "source": [
    "# **Desafio 2: Sistema de aplicação de tarifa automático**"
   ]
  },
  {
   "cell_type": "markdown",
   "metadata": {},
   "source": [
    " O exercício será:\n",
    "\n",
    "- a) Criar uma lista de tuplas com o nome e o capital inicial de cada usuário;\n",
    "- b) Calcular a tarifa de 20% em cima do capital inicial para valores maiores que 5000;\n",
    "- c) Ordenar os nomes dos usuários que receberam a tarifa em ordem alfabética\n",
    "- d) Apresentar o nome e o valor do capital dos usuário que receberem a tarifa."
   ]
  },
  {
   "cell_type": "code",
   "execution_count": 1,
   "metadata": {},
   "outputs": [
    {
     "name": "stdout",
     "output_type": "stream",
     "text": [
      "[('Adriano', 6400.0), ('Beatriz', 8000.0), ('Igor', 4800.0), ('Maria', 7200.0), ('Paula', 4800.0), ('Sandro', 7200.0)]\n"
     ]
    }
   ],
   "source": [
    "'''Criando tuplas com o nome e o capital inicial do usuário'''\n",
    "user = [('Matheus', 5000), ('Igor', 6000), ('Antônio', 2000), ('Adriano', 8000), ('Maria', 9000), ('Joana', 5000), ('Sandro', 9000), ('Beatriz', 10000), ('Pedro', 3000), ('Paula', 6000)]\n",
    "\n",
    "'''Calculando a tarifa de 20% em cima do capital inicial para valores maiores que 5000 e ordenando'''\n",
    "user_tar = sorted([(x, y * 0.8) for (x, y) in user if y > 5000])\n",
    "\n",
    "'''Apresentando o nome e o valor do capital de cada usuário após a tarifa'''\n",
    "print(user_tar)"
   ]
  }
 ],
 "metadata": {
  "kernelspec": {
   "display_name": "Python 3",
   "language": "python",
   "name": "python3"
  },
  "language_info": {
   "codemirror_mode": {
    "name": "ipython",
    "version": 3
   },
   "file_extension": ".py",
   "mimetype": "text/x-python",
   "name": "python",
   "nbconvert_exporter": "python",
   "pygments_lexer": "ipython3",
   "version": "3.12.2"
  }
 },
 "nbformat": 4,
 "nbformat_minor": 2
}
