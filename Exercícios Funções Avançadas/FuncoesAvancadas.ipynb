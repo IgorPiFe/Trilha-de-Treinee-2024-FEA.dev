{
 "cells": [
  {
   "cell_type": "markdown",
   "metadata": {},
   "source": [
    "# **Desafio 1: Sistema de gerenciamento de Notas**"
   ]
  },
  {
   "cell_type": "markdown",
   "metadata": {},
   "source": [
    "Afim de entender melhor sobre métodos nomeados, escopo de funções e raise Keyerror é proposto o seguinte:\n",
    "- a) Definir a classe para armazenar os alunos e suas notas;\n",
    "- b) Criar o método para adicionar aluno e a nota;\n",
    "- c) Criar o método para calcular a média da nota;\n",
    "- d) Criar o método para listar as notas a partir do nome.\n",
    "\n",
    "e após faça uma série de testes para validar o funcionamento da classe e tratar exceções que podem ser lançadas"
   ]
  },
  {
   "cell_type": "code",
   "execution_count": null,
   "metadata": {},
   "outputs": [],
   "source": [
    "\"\"\"Definindo a classe para armazenar os alunos e suas notas\"\"\"\n",
    "class ger_notas:\n",
    "    def __init__(self):\n",
    "        self._alunos = {}\n",
    "\n",
    "    \"\"\"Criando o método para adicionar aluno e a nota\"\"\"\n",
    "    def ad_aluno(self, nome):\n",
    "        if nome in self._alunos:\n",
    "            raise ValueError(f\"Aluno '{nome}' já cadastrado\")\n",
    "        \n",
    "        self._alunos[nome] = []\n",
    "\n",
    "    def ad_nota(self, nome, nota):\n",
    "        if nome not in self._alunos:\n",
    "            raise KeyError(f\"Aluno '{nome}' não encontrado\")\n",
    "        self._alunos[nome].append(nota)\n",
    "\n",
    "    \"\"\"Criando o método para calcular a média da nota\"\"\"\n",
    "    def media(self, nome):\n",
    "        if nome not in self._alunos:\n",
    "            raise KeyError (f\"Aluno '{nome}' não encontrado\")\n",
    "        \n",
    "        notas = self._alunos[nome]\n",
    "        if not notas:\n",
    "            return None\n",
    "        return sum(notas)/len(notas)\n",
    "    \n",
    "    \"\"\"Criando o método para listar as notas a partir do nome.\"\"\"\n",
    "    def listar(self, nome):\n",
    "        if nome not in self._alunos:\n",
    "            raise KeyError(f\"Aluno '{nome}' não encontrado\")\n",
    "        return self._alunos[nome]\n",
    "\n"
   ]
  },
  {
   "cell_type": "code",
   "execution_count": 36,
   "metadata": {},
   "outputs": [
    {
     "name": "stdout",
     "output_type": "stream",
     "text": [
      "Alunos adicionados\n"
     ]
    }
   ],
   "source": [
    "\"\"\"Adicionando alunos\"\"\"\n",
    "sistema_notas = ger_notas()\n",
    "try:\n",
    "    sistema_notas.ad_aluno(\"Caio\")\n",
    "    sistema_notas.ad_aluno(\"Igor\")\n",
    "    print(\"Alunos adicionados\")\n",
    "except ValueError as e:\n",
    "    print(e)"
   ]
  },
  {
   "cell_type": "code",
   "execution_count": 37,
   "metadata": {},
   "outputs": [
    {
     "name": "stdout",
     "output_type": "stream",
     "text": [
      "Notas adicionadas\n"
     ]
    }
   ],
   "source": [
    "\"\"\"Adicionando notas aos alunos\"\"\"\n",
    "try:\n",
    "    sistema_notas.ad_nota(\"Caio\", 9)\n",
    "    sistema_notas.ad_nota(\"Caio\", 8)\n",
    "    sistema_notas.ad_nota(\"Igor\", 7)\n",
    "    sistema_notas.ad_nota(\"Igor\", 6)\n",
    "    print(\"Notas adicionadas\")\n",
    "except KeyError as e:\n",
    "    print(e)"
   ]
  },
  {
   "cell_type": "code",
   "execution_count": 39,
   "metadata": {},
   "outputs": [
    {
     "name": "stdout",
     "output_type": "stream",
     "text": [
      "8.5\n"
     ]
    }
   ],
   "source": [
    "\"\"\"Calculando a média\"\"\"\n",
    "try:\n",
    "    media_Caio = sistema_notas.media(\"Caio\")\n",
    "    print(media_Caio)\n",
    "except KeyError as error:\n",
    "    print(error)"
   ]
  },
  {
   "cell_type": "code",
   "execution_count": 41,
   "metadata": {},
   "outputs": [
    {
     "name": "stdout",
     "output_type": "stream",
     "text": [
      "Notas [7, 6]\n"
     ]
    }
   ],
   "source": [
    "\"\"\"Listando as notas\"\"\"\n",
    "try:\n",
    "    notas_Igor = sistema_notas.listar(\"Igor\")\n",
    "    print(f\"Notas {notas_Igor}\")\n",
    "except KeyError as error:\n",
    "    print(error)\n"
   ]
  },
  {
   "cell_type": "code",
   "execution_count": 42,
   "metadata": {},
   "outputs": [
    {
     "name": "stdout",
     "output_type": "stream",
     "text": [
      "\"Aluno 'Beatriz' não encontrado\"\n"
     ]
    }
   ],
   "source": [
    "\"\"\"Tentando buscar um aluno inexistente\"\"\"\n",
    "try:\n",
    "    sistema_notas.ad_nota(\"Beatriz\", 5)\n",
    "except KeyError as error:\n",
    "    print(error)"
   ]
  },
  {
   "cell_type": "code",
   "execution_count": 44,
   "metadata": {},
   "outputs": [
    {
     "name": "stdout",
     "output_type": "stream",
     "text": [
      "\"Aluno 'Gabriel' não encontrado\"\n"
     ]
    }
   ],
   "source": [
    "\"\"\"Tentando calcular média de um aluno inexistente\"\"\"\n",
    "try:\n",
    "    sistema_notas.media(\"Gabriel\")\n",
    "except KeyError as error:\n",
    "    print(error)"
   ]
  }
 ],
 "metadata": {
  "kernelspec": {
   "display_name": "Python 3",
   "language": "python",
   "name": "python3"
  },
  "language_info": {
   "codemirror_mode": {
    "name": "ipython",
    "version": 3
   },
   "file_extension": ".py",
   "mimetype": "text/x-python",
   "name": "python",
   "nbconvert_exporter": "python",
   "pygments_lexer": "ipython3",
   "version": "3.12.2"
  }
 },
 "nbformat": 4,
 "nbformat_minor": 2
}
